{
  "nbformat": 4,
  "nbformat_minor": 0,
  "metadata": {
    "colab": {
      "name": "NLP-Word-Embeddings-Beginner.ipynb",
      "provenance": [],
      "collapsed_sections": [],
      "authorship_tag": "ABX9TyPpBdwLRtZSi6/fpiDHrrOf",
      "include_colab_link": true
    },
    "kernelspec": {
      "name": "python3",
      "display_name": "Python 3"
    },
    "language_info": {
      "name": "python"
    }
  },
  "cells": [
    {
      "cell_type": "markdown",
      "metadata": {
        "id": "view-in-github",
        "colab_type": "text"
      },
      "source": [
        "<a href=\"https://colab.research.google.com/github/mralamdari/NLP-Word-Embeddings-Beginner/blob/main/NLP_Word_Embeddings_Beginner.ipynb\" target=\"_parent\"><img src=\"https://colab.research.google.com/assets/colab-badge.svg\" alt=\"Open In Colab\"/></a>"
      ]
    },
    {
      "cell_type": "code",
      "source": [
        "import os\n",
        "import re\n",
        "import numpy as np\n",
        "import pandas as pd\n",
        "import matplotlib.pyplot as plt\n",
        "import nltk\n",
        "import collections\n",
        "\n",
        "nltk.download('punkt')"
      ],
      "metadata": {
        "colab": {
          "base_uri": "https://localhost:8080/"
        },
        "id": "PafEQ0q7e_eA",
        "outputId": "8632939a-bc8a-4429-f117-114a10c067b2"
      },
      "execution_count": 1,
      "outputs": [
        {
          "output_type": "stream",
          "name": "stdout",
          "text": [
            "[nltk_data] Downloading package punkt to /root/nltk_data...\n",
            "[nltk_data]   Unzipping tokenizers/punkt.zip.\n"
          ]
        },
        {
          "output_type": "execute_result",
          "data": {
            "text/plain": [
              "True"
            ]
          },
          "metadata": {},
          "execution_count": 1
        }
      ]
    },
    {
      "cell_type": "code",
      "source": [
        "!wget https://raw.githubusercontent.com/amanjeetsahu/Natural-Language-Processing-Specialization/master/Natural%20Language%20Processing%20with%20Probabilistic%20Models/Week%204/shakespeare.txt"
      ],
      "metadata": {
        "colab": {
          "base_uri": "https://localhost:8080/"
        },
        "id": "1vIAsR_6fGRc",
        "outputId": "4f59eaf2-64c6-4faf-d724-5f2bb3979e40"
      },
      "execution_count": 2,
      "outputs": [
        {
          "output_type": "stream",
          "name": "stdout",
          "text": [
            "--2022-05-04 14:49:44--  https://raw.githubusercontent.com/amanjeetsahu/Natural-Language-Processing-Specialization/master/Natural%20Language%20Processing%20with%20Probabilistic%20Models/Week%204/shakespeare.txt\n",
            "Resolving raw.githubusercontent.com (raw.githubusercontent.com)... 185.199.108.133, 185.199.109.133, 185.199.110.133, ...\n",
            "Connecting to raw.githubusercontent.com (raw.githubusercontent.com)|185.199.108.133|:443... connected.\n",
            "HTTP request sent, awaiting response... 200 OK\n",
            "Length: 306996 (300K) [text/plain]\n",
            "Saving to: ‘shakespeare.txt’\n",
            "\n",
            "\rshakespeare.txt       0%[                    ]       0  --.-KB/s               \rshakespeare.txt     100%[===================>] 299.80K  --.-KB/s    in 0.03s   \n",
            "\n",
            "2022-05-04 14:49:45 (9.05 MB/s) - ‘shakespeare.txt’ saved [306996/306996]\n",
            "\n"
          ]
        }
      ]
    },
    {
      "cell_type": "code",
      "source": [
        "with open('shakespeare.txt', 'r') as f:\n",
        "  data = f.read()"
      ],
      "metadata": {
        "id": "AkNp7luqf6hn"
      },
      "execution_count": 3,
      "outputs": []
    },
    {
      "cell_type": "code",
      "source": [
        "data = re.sub(r'[,!?:-]', '.', data)\n",
        "data = nltk.tokenize.word_tokenize(data)\n",
        "data = [char.lower() for char in data if char.isalpha() or char=='.']"
      ],
      "metadata": {
        "id": "zqE0dTL6gEh-"
      },
      "execution_count": 4,
      "outputs": []
    },
    {
      "cell_type": "code",
      "source": [
        "len(data)"
      ],
      "metadata": {
        "colab": {
          "base_uri": "https://localhost:8080/"
        },
        "id": "wS8OGsoJgctp",
        "outputId": "ca53b528-7893-4feb-fb59-ba2ad0d5472e"
      },
      "execution_count": 5,
      "outputs": [
        {
          "output_type": "execute_result",
          "data": {
            "text/plain": [
              "60389"
            ]
          },
          "metadata": {},
          "execution_count": 5
        }
      ]
    },
    {
      "cell_type": "code",
      "source": [
        "frquency_distribution = nltk.FreqDist(word for word in data)"
      ],
      "metadata": {
        "id": "OuuBItMYgsyj"
      },
      "execution_count": 6,
      "outputs": []
    },
    {
      "cell_type": "code",
      "source": [
        "len(frquency_distribution)"
      ],
      "metadata": {
        "colab": {
          "base_uri": "https://localhost:8080/"
        },
        "id": "E8GEGCmFhgtB",
        "outputId": "05bcbd09-fed4-4d55-b7ab-a39ccfe5adf9"
      },
      "execution_count": 7,
      "outputs": [
        {
          "output_type": "execute_result",
          "data": {
            "text/plain": [
              "5772"
            ]
          },
          "metadata": {},
          "execution_count": 7
        }
      ]
    },
    {
      "cell_type": "code",
      "source": [
        "frquency_distribution.most_common(40)"
      ],
      "metadata": {
        "colab": {
          "base_uri": "https://localhost:8080/"
        },
        "id": "qadyTGqChiH9",
        "outputId": "baf833e8-9c94-457d-fec2-c168c5485825"
      },
      "execution_count": 8,
      "outputs": [
        {
          "output_type": "execute_result",
          "data": {
            "text/plain": [
              "[('.', 9086),\n",
              " ('the', 1521),\n",
              " ('and', 1394),\n",
              " ('i', 1252),\n",
              " ('to', 1159),\n",
              " ('of', 1093),\n",
              " ('my', 857),\n",
              " ('that', 781),\n",
              " ('in', 770),\n",
              " ('you', 748),\n",
              " ('a', 742),\n",
              " ('is', 630),\n",
              " ('not', 559),\n",
              " ('for', 467),\n",
              " ('it', 460),\n",
              " ('with', 441),\n",
              " ('his', 434),\n",
              " ('but', 417),\n",
              " ('me', 417),\n",
              " ('your', 397),\n",
              " ('be', 395),\n",
              " ('thy', 359),\n",
              " ('this', 355),\n",
              " ('he', 353),\n",
              " ('so', 352),\n",
              " ('thou', 332),\n",
              " ('have', 327),\n",
              " ('as', 315),\n",
              " ('her', 281),\n",
              " ('him', 277),\n",
              " ('love', 271),\n",
              " ('all', 255),\n",
              " ('which', 248),\n",
              " ('by', 244),\n",
              " ('what', 241),\n",
              " ('thee', 240),\n",
              " ('will', 239),\n",
              " ('lord', 225),\n",
              " ('no', 220),\n",
              " ('shall', 218)]"
            ]
          },
          "metadata": {},
          "execution_count": 8
        }
      ]
    },
    {
      "cell_type": "code",
      "source": [
        "data_counter = collections.Counter(data)"
      ],
      "metadata": {
        "id": "QB6dKC1ciC9c"
      },
      "execution_count": 9,
      "outputs": []
    },
    {
      "cell_type": "code",
      "source": [
        "def word_index_spliter(data):\n",
        "\n",
        "  word2Ind, Ind2word = {}, {}\n",
        "  words = sorted(list(set(data)))    \n",
        "\n",
        "  for index, k in enumerate(words):\n",
        "    word2Ind[k]  = index\n",
        "    Ind2word[index] = k\n",
        "  \n",
        "  return word2Ind, Ind2word"
      ],
      "metadata": {
        "id": "gE7hl2NKjowb"
      },
      "execution_count": 10,
      "outputs": []
    },
    {
      "cell_type": "code",
      "source": [
        "word2Ind, Ind2word = word_index_spliter(data)"
      ],
      "metadata": {
        "id": "YXksNR3nihc2"
      },
      "execution_count": 11,
      "outputs": []
    },
    {
      "cell_type": "code",
      "source": [
        "for i in word2Ind.items():\n",
        "  print(i)\n",
        "  break"
      ],
      "metadata": {
        "colab": {
          "base_uri": "https://localhost:8080/"
        },
        "id": "2mszpw5xjPXG",
        "outputId": "61d4cf4f-ceab-419b-e8f7-268167d02529"
      },
      "execution_count": 15,
      "outputs": [
        {
          "output_type": "stream",
          "name": "stdout",
          "text": [
            "('.', 0)\n"
          ]
        }
      ]
    },
    {
      "cell_type": "code",
      "source": [
        "rand_ind = np.random.randint(0, len(word2Ind))\n",
        "rand_word = Ind2word[rand_ind]\n",
        "print(word2Ind[rand_word], rand_word)"
      ],
      "metadata": {
        "colab": {
          "base_uri": "https://localhost:8080/"
        },
        "id": "5fewM4Z2kUWz",
        "outputId": "a50ff8a8-d789-4483-9ba8-e769e2db1bba"
      },
      "execution_count": null,
      "outputs": [
        {
          "output_type": "stream",
          "name": "stdout",
          "text": [
            "5348 untrimmed\n"
          ]
        }
      ]
    },
    {
      "cell_type": "code",
      "source": [
        "def weights_initialization(n, v, seed=1):\n",
        "  \n",
        "  np.random.seed(seed)\n",
        "  w1 = np.random.random((n, v))\n",
        "  w2 = np.random.random((v, n))\n",
        "  b1 = np.random.random((n, 1))\n",
        "  b2 = np.random.random((v, 1))\n",
        "\n",
        "  return w1, w2, b1, b2"
      ],
      "metadata": {
        "id": "pvgQraNckWdj"
      },
      "execution_count": null,
      "outputs": []
    },
    {
      "cell_type": "code",
      "source": [
        "w1, w2, b1, b2 = weights_initialization(4, 8)"
      ],
      "metadata": {
        "id": "2I2c0HNkrSwc"
      },
      "execution_count": null,
      "outputs": []
    },
    {
      "cell_type": "code",
      "source": [
        "w1"
      ],
      "metadata": {
        "colab": {
          "base_uri": "https://localhost:8080/"
        },
        "id": "2ZANTV0orZHo",
        "outputId": "d95eead0-3425-4971-8eeb-ee9251272152"
      },
      "execution_count": null,
      "outputs": [
        {
          "output_type": "execute_result",
          "data": {
            "text/plain": [
              "array([[4.17022005e-01, 7.20324493e-01, 1.14374817e-04, 3.02332573e-01,\n",
              "        1.46755891e-01, 9.23385948e-02, 1.86260211e-01, 3.45560727e-01],\n",
              "       [3.96767474e-01, 5.38816734e-01, 4.19194514e-01, 6.85219500e-01,\n",
              "        2.04452250e-01, 8.78117436e-01, 2.73875932e-02, 6.70467510e-01],\n",
              "       [4.17304802e-01, 5.58689828e-01, 1.40386939e-01, 1.98101489e-01,\n",
              "        8.00744569e-01, 9.68261576e-01, 3.13424178e-01, 6.92322616e-01],\n",
              "       [8.76389152e-01, 8.94606664e-01, 8.50442114e-02, 3.90547832e-02,\n",
              "        1.69830420e-01, 8.78142503e-01, 9.83468338e-02, 4.21107625e-01]])"
            ]
          },
          "metadata": {},
          "execution_count": 15
        }
      ]
    },
    {
      "cell_type": "code",
      "source": [
        "b1"
      ],
      "metadata": {
        "colab": {
          "base_uri": "https://localhost:8080/"
        },
        "id": "myK9TCSKry8N",
        "outputId": "4f48a369-bd55-4c75-fc0c-aae8bb407bc6"
      },
      "execution_count": null,
      "outputs": [
        {
          "output_type": "execute_result",
          "data": {
            "text/plain": [
              "array([[0.04995346],\n",
              "       [0.53589641],\n",
              "       [0.66379465],\n",
              "       [0.51488911]])"
            ]
          },
          "metadata": {},
          "execution_count": 16
        }
      ]
    },
    {
      "cell_type": "code",
      "source": [
        "print(w1.shape, b1.shape)"
      ],
      "metadata": {
        "colab": {
          "base_uri": "https://localhost:8080/"
        },
        "id": "mCBN8K2br2Tu",
        "outputId": "74371217-3422-470d-dc5c-65e7aa9fc2ce"
      },
      "execution_count": null,
      "outputs": [
        {
          "output_type": "stream",
          "name": "stdout",
          "text": [
            "(4, 8) (4, 1)\n"
          ]
        }
      ]
    },
    {
      "cell_type": "code",
      "source": [
        "print(w2.shape, b2.shape)"
      ],
      "metadata": {
        "colab": {
          "base_uri": "https://localhost:8080/"
        },
        "id": "gjYi8QCEr6NG",
        "outputId": "8d10193c-7e94-495f-9c5d-27bdfdb10a6c"
      },
      "execution_count": null,
      "outputs": [
        {
          "output_type": "stream",
          "name": "stdout",
          "text": [
            "(8, 4) (8, 1)\n"
          ]
        }
      ]
    },
    {
      "cell_type": "code",
      "source": [
        "softmax = lambda z: np.exp(z) / np.sum(np.exp(z), axis=0)"
      ],
      "metadata": {
        "id": "NTUzggu6r7Pp"
      },
      "execution_count": null,
      "outputs": []
    },
    {
      "cell_type": "code",
      "source": [
        "arr = np.array([[1, 2, 3], [1, 1, 1]])\n",
        "softmax(arr)"
      ],
      "metadata": {
        "colab": {
          "base_uri": "https://localhost:8080/"
        },
        "id": "uzrSjECVsN7P",
        "outputId": "37be425a-8098-4c74-ca8f-b823faaf1751"
      },
      "execution_count": null,
      "outputs": [
        {
          "output_type": "execute_result",
          "data": {
            "text/plain": [
              "array([[0.5       , 0.73105858, 0.88079708],\n",
              "       [0.5       , 0.26894142, 0.11920292]])"
            ]
          },
          "metadata": {},
          "execution_count": 20
        }
      ]
    },
    {
      "cell_type": "code",
      "source": [
        "def forward_propagation(x, w1, w2, b1, b2):\n",
        "\n",
        "  hidden_layer = w1.dot(x) + b1\n",
        "  \n",
        "  #1\n",
        "  # hidden_layer[hidden_layer <= 0] = 0\n",
        "  # activation_layer = hidden_layer\n",
        "  \n",
        "  #2\n",
        "  activation_layer = np.maximum(0, hidden_layer)\n",
        "\n",
        "  output_layer = w2.dot(activation_layer) + b2\n",
        "  return output_layer, activation_layer"
      ],
      "metadata": {
        "id": "B7RBkvdksVpa"
      },
      "execution_count": null,
      "outputs": []
    },
    {
      "cell_type": "code",
      "source": [
        "x = np.array([[0, 1, 0]]).T\n",
        "\n",
        "w1, w2, b1, b2 = weights_initialization(2, 3)\n",
        "\n",
        "out, hid = forward_propagation(x, w1, w2, b1, b2)"
      ],
      "metadata": {
        "id": "qA1X-l7PvQ3D"
      },
      "execution_count": null,
      "outputs": []
    },
    {
      "cell_type": "code",
      "source": [
        "print(out)"
      ],
      "metadata": {
        "colab": {
          "base_uri": "https://localhost:8080/"
        },
        "id": "b0P_4t_svUe3",
        "outputId": "94d3d40c-a268-4390-b33e-5cd19dc1691a"
      },
      "execution_count": null,
      "outputs": [
        {
          "output_type": "stream",
          "name": "stdout",
          "text": [
            "[[0.55379268]\n",
            " [1.58960774]\n",
            " [1.50722933]]\n"
          ]
        }
      ]
    },
    {
      "cell_type": "code",
      "source": [
        "print(hid)"
      ],
      "metadata": {
        "colab": {
          "base_uri": "https://localhost:8080/"
        },
        "id": "REW12Lz7xQCG",
        "outputId": "785ff341-bafb-48c6-b383-50557fb15101"
      },
      "execution_count": null,
      "outputs": [
        {
          "output_type": "stream",
          "name": "stdout",
          "text": [
            "[[0.92477674]\n",
            " [1.02487333]]\n"
          ]
        }
      ]
    },
    {
      "cell_type": "code",
      "source": [
        "def cost_func(y, pred, batch_size):\n",
        "\n",
        "  log_probs = np.multiply(np.log(pred), y) + np.multiply(np.log(1-pred), 1-y)\n",
        "  cost = -1 / batch_size * np.sum(log_probs)\n",
        "  return cost"
      ],
      "metadata": {
        "id": "_jlPnHNz0iet"
      },
      "execution_count": null,
      "outputs": []
    },
    {
      "cell_type": "code",
      "source": [
        "def pack_idx_with_frequency(context_words, word2Ind):\n",
        "    freq_dict = collections.Counter(context_words)\n",
        "    idxs = [(word2Ind[word], freq_dict.get(word)) for word in context_words]\n",
        "    return idxs"
      ],
      "metadata": {
        "id": "QP1XE5Ka1iul"
      },
      "execution_count": null,
      "outputs": []
    },
    {
      "cell_type": "code",
      "source": [
        "def get_vectors(data, word2Ind, V, C):\n",
        "    i = C\n",
        "    while True:\n",
        "      y = np.zeros(V)\n",
        "      x = np.zeros(V)\n",
        "      center_word = data[i]\n",
        "      y[word2Ind.get(center_word)] = 1\n",
        "      context_words = data[(i-C): i] + data[(i+1): (i+C+1)]\n",
        "      num_ctx_words = len(context_words)\n",
        "      for idx, freq in pack_idx_with_frequency(context_words, word2Ind):\n",
        "          x[idx] = freq/num_ctx_words\n",
        "      \n",
        "      yield x, y\n",
        "      i += 1\n",
        "      if i >= len(data):\n",
        "          print('i is being set to 0')\n",
        "          i = 0"
      ],
      "metadata": {
        "id": "I-sYnluI1ekD"
      },
      "execution_count": null,
      "outputs": []
    },
    {
      "cell_type": "code",
      "source": [
        "def get_batches(data, word2Ind, V, C, batch_size):\n",
        "    batch_x = []\n",
        "    batch_y = []\n",
        "    for x, y in get_vectors(data, word2Ind, V, C):\n",
        "        while len(batch_x) < batch_size:\n",
        "            batch_x.append(x)\n",
        "            batch_y.append(y)\n",
        "        else:\n",
        "            yield np.array(batch_x).T, np.array(batch_y).T\n",
        "            batch = []"
      ],
      "metadata": {
        "id": "pNpakAJw1aS4"
      },
      "execution_count": null,
      "outputs": []
    },
    {
      "cell_type": "code",
      "source": [
        "tmp_C = 2\n",
        "tmp_N = 50\n",
        "batch_size = 4\n",
        "tmp_word2Ind, tmp_Ind2word = word_index_spliter(data)\n",
        "tmp_V = len(word2Ind)\n",
        "\n",
        "w1, w2, b1, b2 = weights_initialization(tmp_N, tmp_V)\n",
        "\n",
        "tmp_x, tmp_y = next(get_batches(data, tmp_word2Ind, tmp_V,tmp_C, batch_size))"
      ],
      "metadata": {
        "colab": {
          "base_uri": "https://localhost:8080/"
        },
        "id": "u8ajSO3m1a0X",
        "outputId": "0bb249ec-297e-4e0d-de1d-b120106bf862"
      },
      "execution_count": null,
      "outputs": [
        {
          "output_type": "stream",
          "name": "stdout",
          "text": [
            "2\n"
          ]
        }
      ]
    },
    {
      "cell_type": "code",
      "source": [
        "out, hid = forward_propagation(tmp_x, w1, w2, b1, b2)"
      ],
      "metadata": {
        "id": "Aa71kNFn2dok"
      },
      "execution_count": null,
      "outputs": []
    },
    {
      "cell_type": "code",
      "source": [
        "pred = softmax(out)"
      ],
      "metadata": {
        "id": "Eu_5zLPsF-OZ"
      },
      "execution_count": null,
      "outputs": []
    },
    {
      "cell_type": "code",
      "source": [
        "cost_func(tmp_y, pred, 4)"
      ],
      "metadata": {
        "colab": {
          "base_uri": "https://localhost:8080/"
        },
        "id": "h5icHXNh1KNH",
        "outputId": "48be11ee-3165-4d6a-8085-6004dd8402d1"
      },
      "execution_count": null,
      "outputs": [
        {
          "output_type": "execute_result",
          "data": {
            "text/plain": [
              "12.982478178977658"
            ]
          },
          "metadata": {},
          "execution_count": 116
        }
      ]
    },
    {
      "cell_type": "code",
      "source": [
        "def back_propagation(x, y_pred, y, hid, w1, w2, b1, b2, batch_size):\n",
        "\n",
        "  dist = y_pred-y\n",
        "  l1 = w2.T.dot(dist)\n",
        "  l1 = np.maximum(0, l1)\n",
        "\n",
        "  grad_w1 = (1/batch_size) * l1.dot(x.T)\n",
        "\n",
        "  grad_w2 = (1/batch_size) * dist.dot(hid.T)\n",
        "\n",
        "  grad_b1 = np.sum((1/batch_size) * l1.dot(x.T), axis=1, keepdims=True)\n",
        "\n",
        "  grad_b2 = np.sum((1/batch_size) * dist.dot(hid.T), axis=1, keepdims=True)\n",
        "\n",
        "  return grad_w1, grad_w2, grad_b1, grad_b2"
      ],
      "metadata": {
        "id": "KobnunO0xQsK"
      },
      "execution_count": null,
      "outputs": []
    },
    {
      "cell_type": "code",
      "source": [
        "grad_W1, grad_W2, grad_b1, grad_b2 = back_propagation(tmp_x, pred, tmp_y, hid, w1, w2, b1, b2, batch_size)"
      ],
      "metadata": {
        "id": "_F5qu1mMGjPn"
      },
      "execution_count": null,
      "outputs": []
    },
    {
      "cell_type": "code",
      "source": [
        "print(grad_W1.shape)\n",
        "print(grad_W2.shape)\n",
        "print(grad_b1.shape)\n",
        "print(grad_b2.shape)"
      ],
      "metadata": {
        "colab": {
          "base_uri": "https://localhost:8080/"
        },
        "id": "QBXouqD6ZOkF",
        "outputId": "fbbc3c0b-a4e8-48fa-91de-0a5e76f23202"
      },
      "execution_count": null,
      "outputs": [
        {
          "output_type": "stream",
          "name": "stdout",
          "text": [
            "(50, 5772)\n",
            "(5772, 50)\n",
            "(50, 1)\n",
            "(5772, 1)\n"
          ]
        }
      ]
    },
    {
      "cell_type": "code",
      "source": [
        "def gradient_descent(data, word2Ind, n, v, num_iterations, alpha=3e-2):\n",
        "  \n",
        "  w1, w2, b1, b2 = weights_initialization(n, v, 973)\n",
        "  batch_size = 128\n",
        "  iteration = 0\n",
        "  C = 2\n",
        "\n",
        "  for x, y in get_batches(data, word2Ind, v, C, batch_size):\n",
        "    print(x)\n",
        "    out, hid = forward_propagation(x, w1, w2, b1, b2)\n",
        "\n",
        "    pred = softmax(out)\n",
        "\n",
        "    cost = cost_func(y, pred, batch_size)\n",
        "\n",
        "    grad_w1, grad_w2, grad_b1, grad_b2 = back_propagation(x, pred, y, hid, w1, w2, b1, b2, batch_size)\n",
        "\n",
        "    w1 -= alpha * grad_w1\n",
        "    w2 -= alpha * grad_w2 \n",
        "    b1 -= alpha * grad_b1 \n",
        "    b2 -= alpha * grad_b2  \n",
        "\n",
        "    if iteration % 10 == 0:\n",
        "      print(f'Iteration: {iteration}/{num_iterations}, ==> Cost: {cost}')\n",
        "    \n",
        "    print(iteration)\n",
        "    iteration += 1\n",
        "    if iteration == num_iterations:\n",
        "      break\n",
        "\n",
        "    if iteration % 100 == 0:\n",
        "      alpha *= 0.66\n",
        "    \n",
        "\n",
        "    return w1, w2, b1, b2"
      ],
      "metadata": {
        "id": "vJzZ3DKzZqnO"
      },
      "execution_count": null,
      "outputs": []
    },
    {
      "cell_type": "code",
      "source": [
        "word2Ind, Ind2word = word_index_spliter(data)\n",
        "\n",
        "N, V, C = 50, len(word2Ind), 2\n",
        "W1, W2, b1, b2 = gradient_descent(data, word2Ind, N, V, 150)"
      ],
      "metadata": {
        "colab": {
          "base_uri": "https://localhost:8080/"
        },
        "id": "jbVZ1o-TZ-II",
        "outputId": "aad874c1-a54c-4abb-8acb-11c9931d23ad"
      },
      "execution_count": null,
      "outputs": [
        {
          "output_type": "stream",
          "name": "stdout",
          "text": [
            "[[0. 0. 0. ... 0. 0. 0.]\n",
            " [0. 0. 0. ... 0. 0. 0.]\n",
            " [0. 0. 0. ... 0. 0. 0.]\n",
            " ...\n",
            " [0. 0. 0. ... 0. 0. 0.]\n",
            " [0. 0. 0. ... 0. 0. 0.]\n",
            " [0. 0. 0. ... 0. 0. 0.]]\n",
            "Iteration: 0/150, ==> Cost: 11.578765890794628\n",
            "0\n"
          ]
        }
      ]
    },
    {
      "cell_type": "code",
      "source": [
        ""
      ],
      "metadata": {
        "id": "OJZRcdmwZ-Us"
      },
      "execution_count": null,
      "outputs": []
    }
  ]
}